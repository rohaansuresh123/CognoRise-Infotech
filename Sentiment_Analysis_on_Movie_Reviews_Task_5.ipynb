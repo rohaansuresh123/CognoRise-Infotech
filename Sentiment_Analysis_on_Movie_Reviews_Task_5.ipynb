{
  "nbformat": 4,
  "nbformat_minor": 0,
  "metadata": {
    "colab": {
      "provenance": [],
      "authorship_tag": "ABX9TyPmiU1nmcKMdGK5uP4mJWEp",
      "include_colab_link": true
    },
    "kernelspec": {
      "name": "python3",
      "display_name": "Python 3"
    },
    "language_info": {
      "name": "python"
    }
  },
  "cells": [
    {
      "cell_type": "markdown",
      "metadata": {
        "id": "view-in-github",
        "colab_type": "text"
      },
      "source": [
        "<a href=\"https://colab.research.google.com/github/rohaansuresh123/CognoRise-Infotech/blob/main/Sentiment_Analysis_on_Movie_Reviews_Task_5.ipynb\" target=\"_parent\"><img src=\"https://colab.research.google.com/assets/colab-badge.svg\" alt=\"Open In Colab\"/></a>"
      ]
    },
    {
      "cell_type": "code",
      "source": [
        "import pandas as pd\n",
        "from sklearn.model_selection import train_test_split\n",
        "from sklearn.feature_extraction.text import TfidfVectorizer\n",
        "from sklearn.ensemble import RandomForestClassifier\n",
        "from sklearn.neighbors import KNeighborsClassifier\n",
        "from sklearn.naive_bayes import MultinomialNB\n",
        "from sklearn.linear_model import LogisticRegression\n",
        "from sklearn.tree import DecisionTreeClassifier\n",
        "from xgboost import XGBClassifier\n",
        "from sklearn.metrics import accuracy_score, classification_report\n",
        "from sklearn.pipeline import make_pipeline\n",
        "\n",
        "def train_and_evaluate_model(model, X_train, y_train, X_test, y_test):\n",
        "    model.fit(X_train, y_train)\n",
        "    y_pred = model.predict(X_test)\n",
        "    accuracy = accuracy_score(y_test, y_pred)\n",
        "    report = classification_report(y_test, y_pred)\n",
        "    return accuracy, report\n",
        "\n",
        "# Load the IMDB dataset with specified encoding and skip bad lines\n",
        "data = pd.read_csv('IMDB.csv', encoding='utf-8', error_bad_lines=False)\n",
        "\n",
        "# Assuming 'sentiment' is the target variable, and 'review' is the text content.\n",
        "# Modify the column names accordingly.\n",
        "X = data['review']\n",
        "y = data['sentiment']\n",
        "\n",
        "# Split the data into training and testing sets\n",
        "X_train, X_test, y_train, y_test = train_test_split(X, y, test_size=0.2, random_state=42)\n",
        "\n",
        "# Define models\n",
        "models = [\n",
        "    make_pipeline(TfidfVectorizer(), MultinomialNB()),\n",
        "    make_pipeline(TfidfVectorizer(), RandomForestClassifier()),\n",
        "    make_pipeline(TfidfVectorizer(), KNeighborsClassifier()),\n",
        "    make_pipeline(TfidfVectorizer(), XGBClassifier()),\n",
        "    make_pipeline(TfidfVectorizer(), LogisticRegression()),\n",
        "    make_pipeline(TfidfVectorizer(), DecisionTreeClassifier())\n",
        "]\n",
        "\n",
        "# Train and evaluate models\n",
        "for i, model in enumerate(models):\n",
        "    accuracy, report = train_and_evaluate_model(model, X_train, y_train, X_test, y_test)\n",
        "\n",
        "    print(f\"Model {i + 1}:\\nAccuracy: {accuracy:.2f}\\nClassification Report:\\n{report}\\n{'='*50}\\n\")\n"
      ],
      "metadata": {
        "colab": {
          "base_uri": "https://localhost:8080/"
        },
        "id": "gt8xeb7ud9gy",
        "outputId": "7190f26c-cd64-40c7-bb13-86645320e3d5"
      },
      "execution_count": null,
      "outputs": [
        {
          "output_type": "stream",
          "name": "stderr",
          "text": [
            "<ipython-input-6-d1e6339cb40e>:21: FutureWarning: The error_bad_lines argument has been deprecated and will be removed in a future version. Use on_bad_lines in the future.\n",
            "\n",
            "\n",
            "  data = pd.read_csv('IMDB.csv', encoding='utf-8', error_bad_lines=False)\n"
          ]
        },
        {
          "output_type": "stream",
          "name": "stdout",
          "text": [
            "Model 1:\n",
            "Accuracy: 0.86\n",
            "Classification Report:\n",
            "              precision    recall  f1-score   support\n",
            "\n",
            "    negative       0.84      0.89      0.87      4961\n",
            "    positive       0.88      0.84      0.86      5039\n",
            "\n",
            "    accuracy                           0.86     10000\n",
            "   macro avg       0.86      0.86      0.86     10000\n",
            "weighted avg       0.86      0.86      0.86     10000\n",
            "\n",
            "==================================================\n",
            "\n",
            "Model 2:\n",
            "Accuracy: 0.85\n",
            "Classification Report:\n",
            "              precision    recall  f1-score   support\n",
            "\n",
            "    negative       0.84      0.86      0.85      4961\n",
            "    positive       0.86      0.83      0.85      5039\n",
            "\n",
            "    accuracy                           0.85     10000\n",
            "   macro avg       0.85      0.85      0.85     10000\n",
            "weighted avg       0.85      0.85      0.85     10000\n",
            "\n",
            "==================================================\n",
            "\n"
          ]
        }
      ]
    }
  ]
}